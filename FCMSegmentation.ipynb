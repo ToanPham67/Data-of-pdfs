{
 "cells": [
  {
   "cell_type": "code",
   "execution_count": 8,
   "metadata": {},
   "outputs": [],
   "source": [
    "import numpy as np  \n",
    "import cv2  \n",
    "import os  \n",
    "from skfuzzy import cmeans  \n",
    "from sklearn.metrics import confusion_matrix  "
   ]
  },
  {
   "cell_type": "code",
   "execution_count": 9,
   "metadata": {},
   "outputs": [
    {
     "name": "stdout",
     "output_type": "stream",
     "text": [
      "Saved segmented image to Proposed/Cancer08.jpg\n",
      "Saved segmented image to Proposed/Cancer09.jpg\n",
      "Saved segmented image to Proposed/Cancer01.jpg\n",
      "Saved segmented image to Proposed/Cancer02.jpg\n",
      "Saved segmented image to Proposed/Cancer03.jpg\n",
      "Saved segmented image to Proposed/Cancer07.jpg\n",
      "Saved segmented image to Proposed/Cancer06.jpg\n",
      "Saved segmented image to Proposed/Cancer04.jpg\n",
      "Saved segmented image to Proposed/Cancer10.jpg\n",
      "Saved segmented image to Proposed/Cancer05.jpg\n"
     ]
    }
   ],
   "source": [
    "import numpy as np  \n",
    "import cv2  \n",
    "from skfuzzy import cmeans  \n",
    "import os  \n",
    "\n",
    "def segment_image_fcm(image, num_clusters, m=1.5, error=0.0001, max_iter=1000):  \n",
    "    image_reshaped = image.reshape((-1, 3)).T  # Chuyển đổi ảnh thành 2D  \n",
    "    cntr, u, _, _, _, _, _ = cmeans(data=image_reshaped, c=num_clusters, m=m, error=error, maxiter=max_iter)  \n",
    "    labels = np.argmax(u, axis=0)  \n",
    "    segmented_image = labels.reshape(image.shape[:-1])  # Chuyển lại thành kích thước gốc  \n",
    "    return segmented_image  \n",
    "\n",
    "def process_and_save_images(image_folder, output_folder, num_clusters):  \n",
    "    # Tạo thư mục đầu ra nếu chưa tồn tại  \n",
    "    os.makedirs(output_folder, exist_ok=True)  \n",
    "\n",
    "    # Lặp qua tất cả các ảnh trong thư mục  \n",
    "    for image_file in os.listdir(image_folder):  \n",
    "        image_path = os.path.join(image_folder, image_file)  \n",
    "        \n",
    "        # Đọc ảnh  \n",
    "        original_image = cv2.imread(image_path)  \n",
    "        \n",
    "        if original_image is None:  \n",
    "            print(f\"Warning: Không thể tải ảnh {image_path}. Bỏ qua ảnh này.\")  \n",
    "            continue  # Bỏ qua nếu ảnh không hợp lệ  \n",
    "\n",
    "        # Phân đoạn ảnh  \n",
    "        segmented_image = segment_image_fcm(original_image, num_clusters)  \n",
    "\n",
    "        # Chuyển đổi ảnh phân đoạn thành ảnh màu (nếu cần)  \n",
    "        segmented_colored = cv2.applyColorMap((segmented_image * (255 // (num_clusters - 1))).astype(np.uint8), cv2.COLORMAP_JET)  \n",
    "\n",
    "        # Lưu ảnh phân đoạn  \n",
    "        output_path = os.path.join(output_folder, f\"{image_file}\")  \n",
    "        cv2.imwrite(output_path, segmented_colored)  \n",
    "\n",
    "        print(f\"Saved segmented image to {output_path}\")  \n",
    "\n",
    "# Các tham số  \n",
    "image_folder = 'Data'  # Đường dẫn đến thư mục chứa ảnh đầu vào  \n",
    "output_folder = 'Proposed'  # Đường dẫn đến thư mục lưu ảnh phân đoạn  \n",
    "num_classes = 5  # Số cụm mà bạn muốn phân đoạn  \n",
    "\n",
    "# Phân đoạn và lưu ảnh  \n",
    "process_and_save_images(image_folder, output_folder, num_classes)"
   ]
  }
 ],
 "metadata": {
  "kernelspec": {
   "display_name": "Python 3",
   "language": "python",
   "name": "python3"
  },
  "language_info": {
   "codemirror_mode": {
    "name": "ipython",
    "version": 3
   },
   "file_extension": ".py",
   "mimetype": "text/x-python",
   "name": "python",
   "nbconvert_exporter": "python",
   "pygments_lexer": "ipython3",
   "version": "3.8.6rc1"
  }
 },
 "nbformat": 4,
 "nbformat_minor": 2
}
