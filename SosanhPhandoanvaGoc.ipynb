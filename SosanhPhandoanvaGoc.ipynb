{
 "cells": [
  {
   "cell_type": "code",
   "execution_count": 1,
   "metadata": {},
   "outputs": [],
   "source": [
    "import numpy as np  \n",
    "import cv2  \n",
    "import os  \n",
    "from sklearn.metrics import precision_score, recall_score, f1_score, jaccard_score  "
   ]
  },
  {
   "cell_type": "code",
   "execution_count": 3,
   "metadata": {},
   "outputs": [
    {
     "name": "stdout",
     "output_type": "stream",
     "text": [
      "Trying to load: Proposed/Cancer08.jpg and Data/Cancer08.jpg\n",
      "Trying to load: Proposed/Cancer09.jpg and Data/Cancer09.jpg\n",
      "Trying to load: Proposed/Cancer01.jpg and Data/Cancer01.jpg\n",
      "Trying to load: Proposed/Cancer02.jpg and Data/Cancer02.jpg\n",
      "Trying to load: Proposed/Cancer03.jpg and Data/Cancer03.jpg\n",
      "Trying to load: Proposed/Cancer07.jpg and Data/Cancer07.jpg\n",
      "Trying to load: Proposed/Cancer06.jpg and Data/Cancer06.jpg\n",
      "Trying to load: Proposed/Cancer04.jpg and Data/Cancer04.jpg\n",
      "Trying to load: Proposed/Cancer10.jpg and Data/Cancer10.jpg\n",
      "Trying to load: Proposed/Cancer05.jpg and Data/Cancer05.jpg\n",
      "Results saved to evaluation_results2.csv\n"
     ]
    }
   ],
   "source": [
    "def calculate_metrics(segmented_image, ground_truth):  \n",
    "    y_true = ground_truth.flatten()  \n",
    "    y_pred = segmented_image.flatten()  \n",
    "    \n",
    "    precision = precision_score(y_true, y_pred, average='weighted', zero_division=0)  \n",
    "    recall = recall_score(y_true, y_pred, average='weighted', zero_division=0)  \n",
    "    f1 = f1_score(y_true, y_pred, average='weighted', zero_division=0)  \n",
    "    jaccard = jaccard_score(y_true, y_pred, average='weighted', zero_division=0)  \n",
    "\n",
    "    return precision, recall, f1, jaccard  \n",
    "\n",
    "def evaluate_segmented_images(segmented_image_path, ground_truth_path):  \n",
    "    print(f\"Trying to load: {segmented_image_path} and {ground_truth_path}\")  # Debug  \n",
    "    segmented_image = cv2.imread(segmented_image_path, cv2.IMREAD_GRAYSCALE)  \n",
    "    ground_truth = cv2.imread(ground_truth_path, cv2.IMREAD_GRAYSCALE)  \n",
    "\n",
    "    if segmented_image is None or ground_truth is None:  \n",
    "        print(f\"Error: Một trong các ảnh không thể được tải {segmented_image_path} hoặc {ground_truth_path}.\")  \n",
    "        return None  \n",
    "\n",
    "    precision, recall, f1, jaccard = calculate_metrics(segmented_image, ground_truth)  \n",
    "    return (precision, recall, f1, jaccard)  \n",
    "\n",
    "def evaluate_multiple_images(segmented_folder, ground_truth_folder, output_file):  \n",
    "    results = []  \n",
    "\n",
    "    for image_file in os.listdir(segmented_folder):  \n",
    "        segmented_image_path = os.path.join(segmented_folder, image_file)  \n",
    "        ground_truth_path = os.path.join(ground_truth_folder, image_file)  \n",
    "\n",
    "        metrics = evaluate_segmented_images(segmented_image_path, ground_truth_path)  \n",
    "        if metrics is not None:  \n",
    "            results.append((image_file, *metrics))  \n",
    "\n",
    "    with open(output_file, 'w') as f:  \n",
    "        f.write('Image, Precision, Recall, F1 Score, Jaccard Index\\n')  \n",
    "        for result in results:  \n",
    "            f.write(f\"{result[0]}, {result[1]:.4f}, {result[2]:.4f}, {result[3]:.4f}, {result[4]:.4f}\\n\")  \n",
    "\n",
    "    print(f\"Results saved to {output_file}\")  \n",
    "\n",
    "# Đường dẫn tới thư mục chứa ảnh phân đoạn và ảnh thật  \n",
    "segmented_folder = 'Proposed'  \n",
    "ground_truth_folder = 'Data'  \n",
    "output_file = 'evaluation_results2.csv'  \n",
    "\n",
    "evaluate_multiple_images(segmented_folder, ground_truth_folder, output_file)"
   ]
  },
  {
   "cell_type": "code",
   "execution_count": null,
   "metadata": {},
   "outputs": [],
   "source": [
    "import os  \n",
    "\n",
    "# Kiểm tra sự hiện diện của tất cả các tệp trong thư mục  \n",
    "def check_files_in_directory(directory):  \n",
    "    for file in os.listdir(directory):  \n",
    "        print(f\"Found file: {file}\")  \n",
    "\n",
    "check_files_in_directory(segmented_folder)  \n",
    "check_files_in_directory(ground_truth_folder)"
   ]
  }
 ],
 "metadata": {
  "kernelspec": {
   "display_name": "Python 3",
   "language": "python",
   "name": "python3"
  },
  "language_info": {
   "codemirror_mode": {
    "name": "ipython",
    "version": 3
   },
   "file_extension": ".py",
   "mimetype": "text/x-python",
   "name": "python",
   "nbconvert_exporter": "python",
   "pygments_lexer": "ipython3",
   "version": "3.8.6rc1"
  }
 },
 "nbformat": 4,
 "nbformat_minor": 2
}
